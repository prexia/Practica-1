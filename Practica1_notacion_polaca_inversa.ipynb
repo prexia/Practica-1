{
  "nbformat": 4,
  "nbformat_minor": 0,
  "metadata": {
    "colab": {
      "provenance": [],
      "include_colab_link": true
    },
    "kernelspec": {
      "name": "python3",
      "display_name": "Python 3"
    },
    "language_info": {
      "name": "python"
    }
  },
  "cells": [
    {
      "cell_type": "markdown",
      "metadata": {
        "id": "view-in-github",
        "colab_type": "text"
      },
      "source": [
        "<a href=\"https://colab.research.google.com/github/prexia/Practica-1/blob/main/Practica1_notacion_polaca_inversa.ipynb\" target=\"_parent\"><img src=\"https://colab.research.google.com/assets/colab-badge.svg\" alt=\"Open In Colab\"/></a>"
      ]
    },
    {
      "cell_type": "markdown",
      "source": [
        "# Santiago Bravo Moreno\n",
        "\n",
        "# Daniela Ximena Thomas Rodriguez\n",
        "\n",
        "# Diego Navarro Gomez"
      ],
      "metadata": {
        "id": "Fa6GgYeACnck"
      }
    },
    {
      "cell_type": "code",
      "execution_count": null,
      "metadata": {
        "id": "S6JtrorVgG_7",
        "colab": {
          "base_uri": "https://localhost:8080/"
        },
        "outputId": "9b33dd6d-9175-48c8-d2ba-2408594e6635"
      },
      "outputs": [
        {
          "output_type": "stream",
          "name": "stdout",
          "text": [
            "Agregar expresión: 3 * ( 1 + 3 ) ** 2,\n",
            "Expresión en notación polaca inversa: 3 1 3 + ** *\n",
            "Reporte generado exitosamente: <function generar_reporte_rpn at 0x79bee475c790>\n"
          ]
        }
      ],
      "source": [
        "# Función que convierte una expresión en notación infija a notación polaca inversa\n",
        "def funcion_polaca(expresion):\n",
        "    jerarquia_operaciones = {'+': 1, '-': 1, '*': 2, '/': 2, '**': 3}  # Prioridad de operadores\n",
        "    operadores = []\n",
        "    salida = []\n",
        "    pasos = []\n",
        "    simbolos = expresion.split()  # Dividimos la expresión en símbolos\n",
        "\n",
        "    for s in simbolos:\n",
        "        if s.isnumeric():  # Si es un número, lo agregamos a la salida\n",
        "            salida.append(s)\n",
        "            pasos.append(f\"Agarrar número {s} del segmento salida: {salida}\")\n",
        "        elif s in jerarquia_operaciones:  # Si es un operador\n",
        "            while (operadores and operadores[-1] != '(' and\n",
        "                   jerarquia_operaciones[operadores[-1]] >= jerarquia_operaciones[s]): #le ponemos cuente el ultimo elemento de -1 ya que phyton empieza a contar en 0\n",
        "                meow = operadores.pop()\n",
        "                salida.append(meow)\n",
        "                pasos.append(f\"Agarrar {meow} del segmento salida: {salida}\")\n",
        "            operadores.append(s)\n",
        "            pasos.append(f\"Agregar operador {s} al segmento operadores: {operadores}\")\n",
        "        elif s == '(':  # Si es un paréntesis abierto\n",
        "            operadores.append(s)\n",
        "            pasos.append(f\"Agregar paréntesis {s} al segmento operadores: {operadores}\")\n",
        "        elif s == ')':  # Si es un paréntesis cerrado\n",
        "            while operadores and operadores[-1] != '(':\n",
        "                meow = operadores.pop()\n",
        "                salida.append(meow)\n",
        "                pasos.append(f\"Agarrar {meow} del segmento salida: {salida}\")\n",
        "            operadores.pop()  # Quita el paréntesis de apertura\n",
        "            pasos.append(f\"Quitar paréntesis de apertura del segmento operadores: {operadores}\")\n",
        "\n",
        "    # Al final, vaciar los operadores restantes en la pila\n",
        "    while operadores:\n",
        "        meow = operadores.pop()\n",
        "        salida.append(meow)\n",
        "        pasos.append(f\"Agarrar {meow} al final del segmento salida: {salida}\")\n",
        "\n",
        "    return salida, pasos, operadores\n",
        "\n",
        "\n",
        "# Función para generar el reporte en un archivo .txt\n",
        "def generar_reporte_rpn(pasos, nombre_archivo=\"generar_reporte_rpn.txt\"):\n",
        "    with open(nombre_archivo, \"w\") as archivo:\n",
        "        archivo.write(\"Reporte de Conversión a Notación Polaca Inversa (RPN)\\n\")\n",
        "        archivo.write(\"--------------------------------------------------\\n\")\n",
        "        for paso in pasos:\n",
        "            archivo.write(paso + \"\\n\")\n",
        "    print(f\"Reporte generado exitosamente: {generar_reporte_rpn}\")\n",
        "\n",
        "\n",
        "# Código principal\n",
        "if __name__ == \"__main__\":\n",
        "    expresion = input(\"Agregar expresión: \")  # Corrige el input con \":\"\n",
        "    hola_salida, pasos, operadores = funcion_polaca(expresion)\n",
        "\n",
        "    # Mostrar la expresión en notación polaca inversa\n",
        "    print(f\"Expresión en notación polaca inversa: {' '.join(hola_salida)}\")\n",
        "\n",
        "    # Generar el reporte en el archivo .txt\n",
        "    generar_reporte_rpn(pasos)\n"
      ]
    }
  ]
}